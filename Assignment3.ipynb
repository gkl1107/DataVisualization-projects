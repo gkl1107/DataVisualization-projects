{
 "cells": [
  {
   "cell_type": "markdown",
   "metadata": {},
   "source": [
    "# Assignment 3 - Building a Custom Visualization\n",
    "\n",
    "---\n",
    "\n",
    "In this assignment you must choose one of the options presented below and submit a visual as well as your source code for peer grading. The details of how you solve the assignment are up to you, although your assignment must use matplotlib so that your peers can evaluate your work. The options differ in challenge level, but there are no grades associated with the challenge level you chose. However, your peers will be asked to ensure you at least met a minimum quality for a given technique in order to pass. Implement the technique fully (or exceed it!) and you should be able to earn full grades for the assignment.\n",
    "\n",
    "\n",
    "&nbsp;&nbsp;&nbsp;&nbsp;&nbsp;&nbsp;Ferreira, N., Fisher, D., & Konig, A. C. (2014, April). [Sample-oriented task-driven visualizations: allowing users to make better, more confident decisions.](https://www.microsoft.com/en-us/research/wp-content/uploads/2016/02/Ferreira_Fisher_Sample_Oriented_Tasks.pdf) \n",
    "&nbsp;&nbsp;&nbsp;&nbsp;&nbsp;&nbsp;In Proceedings of the SIGCHI Conference on Human Factors in Computing Systems (pp. 571-580). ACM. ([video](https://www.youtube.com/watch?v=BI7GAs-va-Q))\n",
    "\n",
    "\n",
    "In this [paper](https://www.microsoft.com/en-us/research/wp-content/uploads/2016/02/Ferreira_Fisher_Sample_Oriented_Tasks.pdf) the authors describe the challenges users face when trying to make judgements about probabilistic data generated through samples. As an example, they look at a bar chart of four years of data (replicated below in Figure 1). Each year has a y-axis value, which is derived from a sample of a larger dataset. For instance, the first value might be the number votes in a given district or riding for 1992, with the average being around 33,000. On top of this is plotted the 95% confidence interval for the mean (see the boxplot lectures for more information, and the yerr parameter of barcharts).\n",
    "\n",
    "<br>\n",
    "<img src=\"readonly/Assignment3Fig1.png\" alt=\"Figure 1\" style=\"width: 400px;\"/>\n",
    "<h4 style=\"text-align: center;\" markdown=\"1\">  &nbsp;&nbsp;&nbsp;&nbsp;&nbsp;&nbsp;&nbsp;&nbsp;Figure 1 from (Ferreira et al, 2014).</h4>\n",
    "\n",
    "<br>\n",
    "\n",
    "A challenge that users face is that, for a given y-axis value (e.g. 42,000), it is difficult to know which x-axis values are most likely to be representative, because the confidence levels overlap and their distributions are different (the lengths of the confidence interval bars are unequal). One of the solutions the authors propose for this problem (Figure 2c) is to allow users to indicate the y-axis value of interest (e.g. 42,000) and then draw a horizontal line and color bars based on this value. So bars might be colored red if they are definitely above this value (given the confidence interval), blue if they are definitely below this value, or white if they contain this value.\n",
    "\n",
    "\n",
    "<br>\n",
    "<img src=\"readonly/Assignment3Fig2c.png\" alt=\"Figure 1\" style=\"width: 400px;\"/>\n",
    "<h4 style=\"text-align: center;\" markdown=\"1\">  Figure 2c from (Ferreira et al. 2014). Note that the colorbar legend at the bottom as well as the arrows are not required in the assignment descriptions below.</h4>\n",
    "\n",
    "<br>\n",
    "<br>\n",
    "\n",
    "**Easiest option:** Implement the bar coloring as described above - a color scale with only three colors, (e.g. blue, white, and red). Assume the user provides the y axis value of interest as a parameter or variable.\n",
    "\n",
    "\n",
    "**Harder option:** Implement the bar coloring as described in the paper, where the color of the bar is actually based on the amount of data covered (e.g. a gradient ranging from dark blue for the distribution being certainly below this y-axis, to white if the value is certainly contained, to dark red if the value is certainly not contained as the distribution is above the axis).\n",
    "\n",
    "**Even Harder option:** Add interactivity to the above, which allows the user to click on the y axis to set the value of interest. The bar colors should change with respect to what value the user has selected.\n",
    "\n",
    "**Hardest option:** Allow the user to interactively set a range of y values they are interested in, and recolor based on this (e.g. a y-axis band, see the paper for more details).\n",
    "\n",
    "---\n",
    "\n",
    "*Note: The data given for this assignment is not the same as the data used in the article and as a result the visualizations may look a little different.*"
   ]
  },
  {
   "cell_type": "code",
   "execution_count": 156,
   "metadata": {},
   "outputs": [
    {
     "name": "stdout",
     "output_type": "stream",
     "text": [
      "Please enter a value of interest: 42000\n"
     ]
    },
    {
     "data": {
      "image/png": "[encoded data removed]",
      "text/plain": [
       "<Figure size 1080x576 with 1 Axes>"
      ]
     },
     "metadata": {
      "needs_background": "light"
     },
     "output_type": "display_data"
    }
   ],
   "source": [
    "# Use the following data for this assignment:\n",
    "\n",
    "import pandas as pd\n",
    "import numpy as np\n",
    "import matplotlib.pyplot as plt\n",
    "import math\n",
    "\n",
    "np.random.seed(12345)\n",
    "\n",
    "df = pd.DataFrame([np.random.normal(32000,200000,3650), \n",
    "                   np.random.normal(43000,100000,3650), \n",
    "                   np.random.normal(43500,140000,3650), \n",
    "                   np.random.normal(48000,70000,3650)], \n",
    "                  index=[1992,1993,1994,1995])\n",
    "\n",
    "# calculate the mean, count, std for all rows  \n",
    "df['mean'] = df.mean(axis = 1)\n",
    "df['count'] = df.count(axis = 1)\n",
    "df['std'] = df.std(axis = 1)\n",
    "\n",
    "#calculate the confident intervals for all rows\n",
    "ci95_high = []\n",
    "ci95_low = []\n",
    "for row in df.index:\n",
    "    m = df.loc[row, 'mean']\n",
    "    c = df.loc[row, 'count']\n",
    "    s = df.loc[row, 'std']\n",
    "    ci95_high.append(m + 1.96*s/math.sqrt(c))\n",
    "    ci95_low.append(m - 1.96*s/math.sqrt(c))\n",
    "    \n",
    "df['ci95_h'] = ci95_high\n",
    "df['ci95_l'] = ci95_low\n",
    "\n",
    "# slice out the dataset that we'll use to plot\n",
    "stats = df.reset_index().loc[:, ['index','mean', 'ci95_h', 'ci95_l']]\n",
    "\n",
    "# prompt user to plug in a value of interest\n",
    "user_value = int(input('Please enter a value of interest: '))\n",
    "\n",
    "# compare user's value with all confident intervals we have, and then decide the color for all bars\n",
    "blue_index = []\n",
    "red_index = []\n",
    "white_index = []\n",
    "\n",
    "for i in stats.index:\n",
    "    h = stats.iloc[i, 2]\n",
    "    l = stats.iloc[i, 3]\n",
    "    if user_value > h: \n",
    "        blue_index.append(i)\n",
    "    elif user_value < l:\n",
    "        red_index.append(i)\n",
    "    else: \n",
    "        white_index.append(i)\n",
    "\n",
    "# calculte y errors for all bars\n",
    "y_err = [df.loc[i, 'mean'] - df.loc[i, 'ci95_h'] for i in df.index]\n",
    "\n",
    "# plot bar chart\n",
    "plt.figure(figsize = (15,8))\n",
    "bars = plt.bar(df.index, df['mean'], yerr = y_err, alpha = 0.75, align = 'center', ecolor='black', capsize = 10)\n",
    "plt.xticks(df.index.values, fontsize =12)\n",
    "plt.yticks(fontsize = 12)\n",
    "\n",
    "# change the color of the bars \n",
    "for i in range(0, len(bars)):\n",
    "    if i in blue_index:\n",
    "        bars[i].set_color('lightblue')\n",
    "    elif i in red_index:\n",
    "        bars[i].set_color('coral')\n",
    "    else:\n",
    "        bars[i].set_color('beige')\n",
    "\n",
    "# add a horizontal dash line to indicate the value provided by user\n",
    "plt.axhline(user_value, color ='k', linestyle='dashed', linewidth=1)  \n",
    "ax = plt.gca()\n",
    "ax.text(x = bars[0].get_x(), y = user_value+500, s = str(user_value), alpha=0.7, color='k', fontsize = 12) # add a text of the value\n",
    "\n",
    "# add axes labels and title\n",
    "plt.title('A custom bar chart with 95% confidence intervals representing the mean values in 1992-1994', fontsize = 15)\n",
    "\n",
    "plt.show()\n",
    "\n",
    "# plt.savefig('custom bar chart based on user\\'s value.png')\n"
   ]
  },
  {
   "cell_type": "code",
   "execution_count": null,
   "metadata": {},
   "outputs": [],
   "source": []
  },
  {
   "cell_type": "code",
   "execution_count": null,
   "metadata": {},
   "outputs": [],
   "source": []
  }
 ],
 "metadata": {
  "kernelspec": {
   "display_name": "Python 3",
   "language": "python",
   "name": "python3"
  },
  "language_info": {
   "codemirror_mode": {
    "name": "ipython",
    "version": 3
   },
   "file_extension": ".py",
   "mimetype": "text/x-python",
   "name": "python",
   "nbconvert_exporter": "python",
   "pygments_lexer": "ipython3",
   "version": "3.7.6"
  }
 },
 "nbformat": 4,
 "nbformat_minor": 2
}
